{
 "cells": [
  {
   "cell_type": "code",
   "execution_count": 1,
   "id": "f06da805",
   "metadata": {},
   "outputs": [],
   "source": [
    "import pandas as pd\n",
    "import numpy as np\n",
    "import matplotlib.pyplot as plt\n",
    "import seaborn as sns\n",
    "from sklearn.linear_model import LogisticRegression\n",
    "from sklearn.ensemble import RandomForestClassifier\n",
    "from sklearn.neighbors import KNeighborsClassifier\n",
    "from sklearn.preprocessing import LabelEncoder\n",
    "from sklearn.model_selection import train_test_split\n",
    "from sklearn.metrics import accuracy_score"
   ]
  },
  {
   "cell_type": "code",
   "execution_count": 4,
   "id": "ecd60349",
   "metadata": {},
   "outputs": [
    {
     "name": "stdout",
     "output_type": "stream",
     "text": [
      "job_id                  int64\n",
      "title                  object\n",
      "location               object\n",
      "department             object\n",
      "salary_range           object\n",
      "company_profile        object\n",
      "description            object\n",
      "requirements           object\n",
      "benefits               object\n",
      "telecommuting           int64\n",
      "has_company_logo        int64\n",
      "has_questions           int64\n",
      "employment_type        object\n",
      "required_experience    object\n",
      "required_education     object\n",
      "industry               object\n",
      "function               object\n",
      "fraudulent              int64\n",
      "dtype: object\n",
      "(17880, 18)\n",
      "<bound method DataFrame.info of        job_id                                              title  \\\n",
      "0           1                                   Marketing Intern   \n",
      "1           2          Customer Service - Cloud Video Production   \n",
      "2           3            Commissioning Machinery Assistant (CMA)   \n",
      "3           4                  Account Executive - Washington DC   \n",
      "4           5                                Bill Review Manager   \n",
      "...       ...                                                ...   \n",
      "17875   17876                   Account Director - Distribution    \n",
      "17876   17877                                 Payroll Accountant   \n",
      "17877   17878  Project Cost Control Staff Engineer - Cost Con...   \n",
      "17878   17879                                   Graphic Designer   \n",
      "17879   17880                         Web Application Developers   \n",
      "\n",
      "                   location   department salary_range  \\\n",
      "0          US, NY, New York    Marketing          NaN   \n",
      "1            NZ, , Auckland      Success          NaN   \n",
      "2             US, IA, Wever          NaN          NaN   \n",
      "3        US, DC, Washington        Sales          NaN   \n",
      "4        US, FL, Fort Worth          NaN          NaN   \n",
      "...                     ...          ...          ...   \n",
      "17875       CA, ON, Toronto        Sales          NaN   \n",
      "17876  US, PA, Philadelphia   Accounting          NaN   \n",
      "17877       US, TX, Houston          NaN          NaN   \n",
      "17878         NG, LA, Lagos          NaN          NaN   \n",
      "17879     NZ, N, Wellington  Engineering          NaN   \n",
      "\n",
      "                                         company_profile  \\\n",
      "0      We're Food52, and we've created a groundbreaki...   \n",
      "1      90 Seconds, the worlds Cloud Video Production ...   \n",
      "2      Valor Services provides Workforce Solutions th...   \n",
      "3      Our passion for improving quality of life thro...   \n",
      "4      SpotSource Solutions LLC is a Global Human Cap...   \n",
      "...                                                  ...   \n",
      "17875  Vend is looking for some awesome new talent to...   \n",
      "17876  WebLinc is the e-commerce platform and service...   \n",
      "17877  We Provide Full Time Permanent Positions for m...   \n",
      "17878                                                NaN   \n",
      "17879  Vend is looking for some awesome new talent to...   \n",
      "\n",
      "                                             description  \\\n",
      "0      Food52, a fast-growing, James Beard Award-winn...   \n",
      "1      Organised - Focused - Vibrant - Awesome!Do you...   \n",
      "2      Our client, located in Houston, is actively se...   \n",
      "3      THE COMPANY: ESRI – Environmental Systems Rese...   \n",
      "4      JOB TITLE: Itemization Review ManagerLOCATION:...   \n",
      "...                                                  ...   \n",
      "17875  Just in case this is the first time you’ve vis...   \n",
      "17876  The Payroll Accountant will focus primarily on...   \n",
      "17877  Experienced Project Cost Control Staff Enginee...   \n",
      "17878  Nemsia Studios is looking for an experienced v...   \n",
      "17879  Who are we?Vend is an award winning web based ...   \n",
      "\n",
      "                                            requirements  \\\n",
      "0      Experience with content management systems a m...   \n",
      "1      What we expect from you:Your key responsibilit...   \n",
      "2      Implement pre-commissioning and commissioning ...   \n",
      "3      EDUCATION: Bachelor’s or Master’s in GIS, busi...   \n",
      "4      QUALIFICATIONS:RN license in the State of Texa...   \n",
      "...                                                  ...   \n",
      "17875  To ace this role you:Will eat comprehensive St...   \n",
      "17876  - B.A. or B.S. in Accounting- Desire to have f...   \n",
      "17877  At least 12 years professional experience.Abil...   \n",
      "17878  1. Must be fluent in the latest versions of Co...   \n",
      "17879  We want to hear from you if:You have an in-dep...   \n",
      "\n",
      "                                                benefits  telecommuting  \\\n",
      "0                                                    NaN              0   \n",
      "1      What you will get from usThrough being part of...              0   \n",
      "2                                                    NaN              0   \n",
      "3      Our culture is anything but corporate—we have ...              0   \n",
      "4                                  Full Benefits Offered              0   \n",
      "...                                                  ...            ...   \n",
      "17875  What can you expect from us?We have an open cu...              0   \n",
      "17876  Health &amp; WellnessMedical planPrescription ...              0   \n",
      "17877                                                NaN              0   \n",
      "17878  Competitive salary (compensation will be based...              0   \n",
      "17879                                                NaN              0   \n",
      "\n",
      "       has_company_logo  has_questions employment_type required_experience  \\\n",
      "0                     1              0           Other          Internship   \n",
      "1                     1              0       Full-time      Not Applicable   \n",
      "2                     1              0             NaN                 NaN   \n",
      "3                     1              0       Full-time    Mid-Senior level   \n",
      "4                     1              1       Full-time    Mid-Senior level   \n",
      "...                 ...            ...             ...                 ...   \n",
      "17875                 1              1       Full-time    Mid-Senior level   \n",
      "17876                 1              1       Full-time    Mid-Senior level   \n",
      "17877                 0              0       Full-time                 NaN   \n",
      "17878                 0              1        Contract      Not Applicable   \n",
      "17879                 1              1       Full-time    Mid-Senior level   \n",
      "\n",
      "      required_education                   industry              function  \\\n",
      "0                    NaN                        NaN             Marketing   \n",
      "1                    NaN  Marketing and Advertising      Customer Service   \n",
      "2                    NaN                        NaN                   NaN   \n",
      "3      Bachelor's Degree          Computer Software                 Sales   \n",
      "4      Bachelor's Degree     Hospital & Health Care  Health Care Provider   \n",
      "...                  ...                        ...                   ...   \n",
      "17875                NaN          Computer Software                 Sales   \n",
      "17876  Bachelor's Degree                   Internet   Accounting/Auditing   \n",
      "17877                NaN                        NaN                   NaN   \n",
      "17878       Professional             Graphic Design                Design   \n",
      "17879                NaN          Computer Software           Engineering   \n",
      "\n",
      "       fraudulent  \n",
      "0               0  \n",
      "1               0  \n",
      "2               0  \n",
      "3               0  \n",
      "4               0  \n",
      "...           ...  \n",
      "17875           0  \n",
      "17876           0  \n",
      "17877           0  \n",
      "17878           0  \n",
      "17879           0  \n",
      "\n",
      "[17880 rows x 18 columns]>\n",
      "             job_id  telecommuting  has_company_logo  has_questions  \\\n",
      "count  17880.000000   17880.000000      17880.000000   17880.000000   \n",
      "mean    8940.500000       0.042897          0.795302       0.491723   \n",
      "std     5161.655742       0.202631          0.403492       0.499945   \n",
      "min        1.000000       0.000000          0.000000       0.000000   \n",
      "25%     4470.750000       0.000000          1.000000       0.000000   \n",
      "50%     8940.500000       0.000000          1.000000       0.000000   \n",
      "75%    13410.250000       0.000000          1.000000       1.000000   \n",
      "max    17880.000000       1.000000          1.000000       1.000000   \n",
      "\n",
      "         fraudulent  \n",
      "count  17880.000000  \n",
      "mean       0.048434  \n",
      "std        0.214688  \n",
      "min        0.000000  \n",
      "25%        0.000000  \n",
      "50%        0.000000  \n",
      "75%        0.000000  \n",
      "max        1.000000  \n",
      "Index(['job_id', 'title', 'location', 'department', 'salary_range',\n",
      "       'company_profile', 'description', 'requirements', 'benefits',\n",
      "       'telecommuting', 'has_company_logo', 'has_questions', 'employment_type',\n",
      "       'required_experience', 'required_education', 'industry', 'function',\n",
      "       'fraudulent'],\n",
      "      dtype='object')\n"
     ]
    }
   ],
   "source": [
    "df = pd.read_csv('F:/data science/fake job postings/fake_job_postings.csv')\n",
    "print(df.dtypes)\n",
    "print(df.shape)\n",
    "print(df.info)\n",
    "print(df.describe())\n",
    "print(df.columns)"
   ]
  },
  {
   "cell_type": "code",
   "execution_count": 5,
   "id": "050a6772",
   "metadata": {},
   "outputs": [
    {
     "name": "stdout",
     "output_type": "stream",
     "text": [
      "job_id                     0\n",
      "title                      0\n",
      "location                 346\n",
      "department             11547\n",
      "salary_range           15012\n",
      "company_profile         3308\n",
      "description                1\n",
      "requirements            2695\n",
      "benefits                7210\n",
      "telecommuting              0\n",
      "has_company_logo           0\n",
      "has_questions              0\n",
      "employment_type         3471\n",
      "required_experience     7050\n",
      "required_education      8105\n",
      "industry                4903\n",
      "function                6455\n",
      "fraudulent                 0\n",
      "dtype: int64\n",
      "0    17014\n",
      "1      866\n",
      "Name: fraudulent, dtype: int64\n"
     ]
    }
   ],
   "source": [
    "print(df.isna().sum())\n",
    "print(df.fraudulent.value_counts())"
   ]
  },
  {
   "cell_type": "code",
   "execution_count": 6,
   "id": "ed9dcf6b",
   "metadata": {},
   "outputs": [
    {
     "name": "stdout",
     "output_type": "stream",
     "text": [
      "English Teacher Abroad                                         311\n",
      "Customer Service Associate                                     146\n",
      "Graduates: English Teacher Abroad (Conversational)             144\n",
      "English Teacher Abroad                                          95\n",
      "Software Engineer                                               86\n",
      "                                                              ... \n",
      "West Coast Regional Channel Manager (RCM)                        1\n",
      "BI Practice Manager                                              1\n",
      "Community Coordinator- Ambassador Programme                      1\n",
      "Senior Traffic Engineer                                          1\n",
      "Project Cost Control Staff Engineer - Cost Control Exp - TX      1\n",
      "Name: title, Length: 11231, dtype: int64\n"
     ]
    }
   ],
   "source": [
    "print(df.title.value_counts())"
   ]
  },
  {
   "cell_type": "code",
   "execution_count": 7,
   "id": "f7796d48",
   "metadata": {},
   "outputs": [
    {
     "name": "stdout",
     "output_type": "stream",
     "text": [
      "                              fraudulent\n",
      "department                              \n",
      "sales                                  5\n",
      "reception                              1\n",
      "medical                                2\n",
      "hr                                     1\n",
      "customer service                       4\n",
      "...                                  ...\n",
      "ADMIN                                  1\n",
      "ACCT                                   1\n",
      "1411                                   1\n",
      "1221                                   1\n",
      " \\tCorporate Shared Services           1\n",
      "\n",
      "[103 rows x 1 columns]\n"
     ]
    }
   ],
   "source": [
    "df2 = pd.DataFrame(df[['department','fraudulent']][df['fraudulent'] == 1])\n",
    "df_grouped = df2.groupby('department').count()\n",
    "print(df_grouped.sort_values(by='department',ascending=False))"
   ]
  },
  {
   "cell_type": "code",
   "execution_count": 8,
   "id": "ce416d17",
   "metadata": {},
   "outputs": [],
   "source": [
    "df3 = df.copy()\n",
    "location_split= df3['location'].str.split(',',n=1,expand=True)\n",
    "df3['country'] = location_split[0]\n"
   ]
  },
  {
   "cell_type": "code",
   "execution_count": 9,
   "id": "ea8bd5ea",
   "metadata": {},
   "outputs": [],
   "source": [
    "salary_split = df3['salary_range'].str.split('-',n=1,expand=True)\n",
    "df3['min_salary'] = salary_split[0]"
   ]
  },
  {
   "cell_type": "code",
   "execution_count": 10,
   "id": "3eb4f3cf",
   "metadata": {},
   "outputs": [
    {
     "name": "stdout",
     "output_type": "stream",
     "text": [
      "                         department min_salary\n",
      "102                     Marketplace      15000\n",
      "107                              FP      50000\n",
      "113                      Operations      45000\n",
      "134  Sales and Business Development      70000\n",
      "153                      Production      28000\n"
     ]
    }
   ],
   "source": [
    "df3_final = df3[['department','min_salary']][df3['country'] == 'GB']\n",
    "df3_final.dropna(inplace=True)\n",
    "print(df3_final.head())"
   ]
  },
  {
   "cell_type": "code",
   "execution_count": 11,
   "id": "b5b95e9c",
   "metadata": {},
   "outputs": [
    {
     "name": "stdout",
     "output_type": "stream",
     "text": [
      "(17880, 1)\n",
      "(14572, 1)\n"
     ]
    }
   ],
   "source": [
    "\n",
    "df4 = pd.DataFrame(df['company_profile'])\n",
    "print(df4.shape)\n",
    "df4.dropna(inplace=True)\n",
    "print(df4.shape) ##(14572,)\n",
    "df4.reset_index(drop=True,inplace=True)\n",
    "df4_edit = df4"
   ]
  },
  {
   "cell_type": "code",
   "execution_count": 12,
   "id": "9aea04a1",
   "metadata": {},
   "outputs": [
    {
     "name": "stderr",
     "output_type": "stream",
     "text": [
      "[nltk_data] Downloading package punkt to\n",
      "[nltk_data]     C:\\Users\\VINUTHA\\AppData\\Roaming\\nltk_data...\n",
      "[nltk_data]   Unzipping tokenizers\\punkt.zip.\n"
     ]
    },
    {
     "data": {
      "text/plain": [
       "True"
      ]
     },
     "execution_count": 12,
     "metadata": {},
     "output_type": "execute_result"
    }
   ],
   "source": [
    "import nltk\n",
    "nltk.download('punkt')"
   ]
  },
  {
   "cell_type": "code",
   "execution_count": 19,
   "id": "6076894c",
   "metadata": {},
   "outputs": [
    {
     "name": "stderr",
     "output_type": "stream",
     "text": [
      "[nltk_data] Downloading package stopwords to\n",
      "[nltk_data]     C:\\Users\\Indrajeet\\AppData\\Roaming\\nltk_data...\n",
      "[nltk_data]   Unzipping corpora\\stopwords.zip.\n"
     ]
    },
    {
     "data": {
      "text/plain": [
       "True"
      ]
     },
     "execution_count": 19,
     "metadata": {},
     "output_type": "execute_result"
    }
   ],
   "source": [
    "from nltk.tokenize import word_tokenize\n",
    "from nltk.corpus import stopwords\n",
    "from nltk.stem import PorterStemmer\n",
    "import nltk\n",
    "nltk.download('stopwords')"
   ]
  },
  {
   "cell_type": "code",
   "execution_count": 17,
   "id": "fd76f7b0",
   "metadata": {},
   "outputs": [],
   "source": [
    "from nltk.stem import PorterStemmer\n",
    "from nltk.corpus import stopwords\n",
    "stemming = PorterStemmer()\n",
    "stops = set(stopwords.words(\"english\"))\n",
    "def identify_tokens(row):\n",
    "    tokens = nltk.word_tokenize(row)\n",
    "    token_words = [w for w in tokens if w.isalpha()]\n",
    "    meaningful_words = [w for w in token_words if not w in stops]\n",
    "    stemmed_list = [stemming.stem(word) for word in meaningful_words]     \n",
    "    joined_words = (','.join(stemmed_list))\n",
    "    return joined_words"
   ]
  },
  {
   "cell_type": "code",
   "execution_count": 18,
   "id": "61118f57",
   "metadata": {},
   "outputs": [
    {
     "name": "stdout",
     "output_type": "stream",
     "text": [
      "0        we,creat,groundbreak,cook,site,we,support,conn...\n",
      "1        second,world,cloud,video,product,second,world,...\n",
      "2        valor,servic,provid,workforc,solut,meet,need,c...\n",
      "3        our,passion,improv,qualiti,life,geographi,hear...\n",
      "4        spotsourc,solut,llc,global,human,capit,manag,c...\n",
      "                               ...                        \n",
      "14567    flite,deliv,ad,innov,scale,world,top,publish,b...\n",
      "14568    vend,look,awesom,new,talent,come,join,us,you,w...\n",
      "14569    weblinc,platform,servic,provid,fastest,grow,on...\n",
      "14570    we,provid,full,time,perman,posit,mani,medium,l...\n",
      "14571    vend,look,awesom,new,talent,come,join,us,you,w...\n",
      "Name: processed, Length: 14572, dtype: object\n"
     ]
    }
   ],
   "source": [
    "df4['processed'] = df4['company_profile'].apply(identify_tokens)\n",
    "print(df4['processed'])"
   ]
  },
  {
   "cell_type": "code",
   "execution_count": 19,
   "id": "99d263cb",
   "metadata": {},
   "outputs": [],
   "source": [
    "txt = df4['processed'].str.lower().str.replace(r',', ' ').str.cat(sep=' ')\n",
    "words = nltk.tokenize.word_tokenize(txt)\n",
    "word_dist = nltk.FreqDist(words)\n",
    "rslt = pd.DataFrame(word_dist.most_common(3),\n",
    "                    columns=['Word', 'Frequency'])"
   ]
  },
  {
   "cell_type": "code",
   "execution_count": 20,
   "id": "078cb8ee",
   "metadata": {},
   "outputs": [
    {
     "name": "stdout",
     "output_type": "stream",
     "text": [
      "      Word  Frequency\n",
      "0       we      16408\n",
      "1  compani      11097\n",
      "2     work      10484\n",
      "[(',', 983815), ('e', 592498), ('i', 443064)]\n"
     ]
    }
   ],
   "source": [
    "print(rslt)\n",
    "from collections import Counter\n",
    "from itertools import chain\n",
    "count = Counter(chain.from_iterable(df4['processed']))\n",
    "print(count.most_common(3))"
   ]
  },
  {
   "cell_type": "code",
   "execution_count": 21,
   "id": "aef06733",
   "metadata": {},
   "outputs": [
    {
     "name": "stdout",
     "output_type": "stream",
     "text": [
      "fraudulent                    0  1\n",
      "department                        \n",
      "                              6  0\n",
      " \\tCorporate Shared Services  0  1\n",
      " Lower Level Management       1  0\n",
      " Marketing                    1  0\n",
      " Moni Technologies            1  0\n",
      "...                          .. ..\n",
      "warehouse                     3  0\n",
      "web development               1  0\n",
      "Área Comercial                1  0\n",
      "ΕΜΠΟΡΙΚΟ                      1  0\n",
      "ΠΛΗΡΟΦΟΡΙΚΗ                   1  0\n",
      "\n",
      "[1337 rows x 2 columns]\n"
     ]
    },
    {
     "data": {
      "image/png": "[encoded data removed]",
      "text/plain": [
       "<Figure size 720x432 with 1 Axes>"
      ]
     },
     "metadata": {
      "needs_background": "light"
     },
     "output_type": "display_data"
    }
   ],
   "source": [
    "print(pd.crosstab(df.department,df.fraudulent))\n",
    "pd.crosstab(df.fraudulent,df.industry).plot(kind='bar',figsize=(10,6))\n",
    "plt.title('fraudulent vs industry')\n",
    "plt.xlabel('fraudulent')\n",
    "plt.ylabel('industry')\n",
    "plt.legend(['not fraud','fraudulent'])\n",
    "plt.show()"
   ]
  },
  {
   "cell_type": "code",
   "execution_count": 22,
   "id": "f95a49e6",
   "metadata": {},
   "outputs": [
    {
     "name": "stdout",
     "output_type": "stream",
     "text": [
      "fraudulent           0    1\n",
      "employment_type            \n",
      "Contract          1480   44\n",
      "Full-time        11130  490\n",
      "Other              212   15\n",
      "Part-time          723   74\n",
      "Temporary          239    2\n"
     ]
    },
    {
     "data": {
      "image/png": "[encoded data removed]",
      "text/plain": [
       "<Figure size 720x432 with 1 Axes>"
      ]
     },
     "metadata": {
      "needs_background": "light"
     },
     "output_type": "display_data"
    }
   ],
   "source": [
    "print(pd.crosstab(df.employment_type,df.fraudulent))\n",
    "pd.crosstab(df.fraudulent[df.fraudulent == 0],df.employment_type).plot(kind='bar',figsize=(10,6))\n",
    "plt.title('not fraudulent vs employment_type')\n",
    "plt.xlabel('not fraudulent')\n",
    "plt.ylabel('employment_type')\n",
    "plt.show()\n"
   ]
  },
  {
   "cell_type": "code",
   "execution_count": 23,
   "id": "08efca9d",
   "metadata": {},
   "outputs": [
    {
     "name": "stdout",
     "output_type": "stream",
     "text": [
      "fraudulent            0    1\n",
      "has_company_logo            \n",
      "0                  3077  583\n",
      "1                 13937  283\n"
     ]
    },
    {
     "data": {
      "image/png": "[encoded data removed]",
      "text/plain": [
       "<Figure size 720x432 with 1 Axes>"
      ]
     },
     "metadata": {
      "needs_background": "light"
     },
     "output_type": "display_data"
    }
   ],
   "source": [
    "print(pd.crosstab(df.has_company_logo,df.fraudulent))\n",
    "pd.crosstab(df.fraudulent[df.fraudulent == 0],df.has_company_logo).plot(kind='bar',figsize=(10,6))\n",
    "plt.title('not fraudulent vs has_company_logo')\n",
    "plt.xlabel('not fraudulent')\n",
    "plt.ylabel('has_company_logo')\n",
    "plt.legend(['no company logo','has a company logo'])\n",
    "plt.show()"
   ]
  },
  {
   "cell_type": "code",
   "execution_count": 24,
   "id": "0663979a",
   "metadata": {},
   "outputs": [
    {
     "name": "stdout",
     "output_type": "stream",
     "text": [
      "job_id                     0\n",
      "title                      0\n",
      "location                 346\n",
      "department             11547\n",
      "salary_range           15012\n",
      "company_profile         3308\n",
      "description                1\n",
      "requirements            2695\n",
      "benefits                7210\n",
      "telecommuting              0\n",
      "has_company_logo           0\n",
      "has_questions              0\n",
      "employment_type         3471\n",
      "required_experience     7050\n",
      "required_education      8105\n",
      "industry                4903\n",
      "function                6455\n",
      "fraudulent                 0\n",
      "dtype: int64\n",
      "Index(['job_id', 'title', 'location', 'company_profile', 'description',\n",
      "       'requirements', 'telecommuting', 'has_company_logo', 'has_questions',\n",
      "       'employment_type', 'industry', 'fraudulent'],\n",
      "      dtype='object')\n"
     ]
    }
   ],
   "source": [
    "\n",
    "print(df.isna().sum())\n",
    "df.drop(['department','salary_range','benefits','required_experience','required_education','function'],axis=1,inplace=True)\n",
    "print(df.columns)"
   ]
  },
  {
   "cell_type": "code",
   "execution_count": 25,
   "id": "9177f80f",
   "metadata": {},
   "outputs": [],
   "source": [
    "def Labelencoder_feature(a):\n",
    "    le=LabelEncoder()\n",
    "    a=le.fit_transform(a)\n",
    "    return a\n",
    "df=df.apply(Labelencoder_feature)\n",
    "x = df.drop('fraudulent',axis=1)\n",
    "y = df['fraudulent']"
   ]
  },
  {
   "cell_type": "code",
   "execution_count": 26,
   "id": "ae3c4856",
   "metadata": {},
   "outputs": [],
   "source": [
    "x_train,x_test,y_train,y_test = train_test_split(x,y,test_size=0.2)"
   ]
  },
  {
   "cell_type": "code",
   "execution_count": 27,
   "id": "4878120a",
   "metadata": {},
   "outputs": [
    {
     "name": "stdout",
     "output_type": "stream",
     "text": [
      "KNN Accuracy: 0.9628076062639821\n"
     ]
    }
   ],
   "source": [
    "np.random.seed(31)\n",
    "KNN = KNeighborsClassifier(n_neighbors=3)\n",
    "KNN.fit(x_train,y_train)\n",
    "KNNPred= KNN.predict(x_test)\n",
    "print(f'KNN Accuracy: {accuracy_score(y_test, KNNPred)}')"
   ]
  },
  {
   "cell_type": "code",
   "execution_count": 28,
   "id": "75d98f64",
   "metadata": {},
   "outputs": [
    {
     "name": "stdout",
     "output_type": "stream",
     "text": [
      "LR Accuracy: 0.9549776286353467\n"
     ]
    }
   ],
   "source": [
    "np.random.seed(31)\n",
    "LR = LogisticRegression(max_iter=1000)\n",
    "LR.fit(x_train,y_train)\n",
    "LRPred= LR.predict(x_test)\n",
    "print(f'LR Accuracy: {accuracy_score(y_test, LRPred)}')"
   ]
  },
  {
   "cell_type": "code",
   "execution_count": 29,
   "id": "3115078b",
   "metadata": {},
   "outputs": [
    {
     "name": "stdout",
     "output_type": "stream",
     "text": [
      "RFC Accuracy: 0.9862975391498882\n"
     ]
    }
   ],
   "source": [
    "np.random.seed(31)\n",
    "RFC = RandomForestClassifier(n_estimators=100)\n",
    "RFC.fit(x_train,y_train)\n",
    "RFCPred= RFC.predict(x_test)\n",
    "\n",
    "print(f'RFC Accuracy: {accuracy_score(y_test, RFCPred)}')"
   ]
  },
  {
   "cell_type": "code",
   "execution_count": null,
   "id": "144d8ddc",
   "metadata": {},
   "outputs": [],
   "source": []
  }
 ],
 "metadata": {
  "kernelspec": {
   "display_name": "Python 3 (ipykernel)",
   "language": "python",
   "name": "python3"
  },
  "language_info": {
   "codemirror_mode": {
    "name": "ipython",
    "version": 3
   },
   "file_extension": ".py",
   "mimetype": "text/x-python",
   "name": "python",
   "nbconvert_exporter": "python",
   "pygments_lexer": "ipython3",
   "version": "3.9.12"
  }
 },
 "nbformat": 4,
 "nbformat_minor": 5
}
